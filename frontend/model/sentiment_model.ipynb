{
 "cells": [
  {
   "cell_type": "code",
   "execution_count": 1,
   "metadata": {},
   "outputs": [],
   "source": [
    "import numpy as np\n",
    "import pandas as pd\n",
    "import os"
   ]
  },
  {
   "cell_type": "code",
   "execution_count": 33,
   "metadata": {},
   "outputs": [],
   "source": [
    "def get_data_from_dir(dir):\n",
    "    tweet_file = [(dir + file, file)  for file in os.listdir(dir) if 'zip' in file]\n",
    "    return tweet_file"
   ]
  },
  {
   "cell_type": "code",
   "execution_count": 34,
   "metadata": {},
   "outputs": [
    {
     "data": {
      "text/plain": [
       "[('../AllData/dataset/AI_tweets.csv.zip', 'AI_tweets.csv.zip'),\n",
       " ('../AllData/dataset/bitcoin_tweets.csv.zip', 'bitcoin_tweets.csv.zip'),\n",
       " ('../AllData/dataset/crypto_tweets.csv.zip', 'crypto_tweets.csv.zip'),\n",
       " ('../AllData/dataset/cyptocurrency_tweets.csv.zip',\n",
       "  'cyptocurrency_tweets.csv.zip'),\n",
       " ('../AllData/dataset/gpu_tweets.csv.zip', 'gpu_tweets.csv.zip'),\n",
       " ('../AllData/dataset/Nvidia_tweets.csv.zip', 'Nvidia_tweets.csv.zip'),\n",
       " ('../AllData/dataset/RTX_tweets.csv.zip', 'RTX_tweets.csv.zip')]"
      ]
     },
     "execution_count": 34,
     "metadata": {},
     "output_type": "execute_result"
    }
   ],
   "source": [
    "tweet_list = get_data_from_dir('../AllData/dataset/')\n",
    "tweet_list.pop(5)\n",
    "tweet_list.pop(6)\n",
    "tweet_list"
   ]
  },
  {
   "cell_type": "code",
   "execution_count": 31,
   "metadata": {},
   "outputs": [
    {
     "data": {
      "text/plain": [
       "'../AllData/dataset/bitcoin_tweets'"
      ]
     },
     "execution_count": 31,
     "metadata": {},
     "output_type": "execute_result"
    }
   ],
   "source": [
    "data = pd.read_csv(tweet_list[1], compression='zip', lineterminator='\\n')\n",
    "data.columns\n",
    "tweet_list[1]"
   ]
  },
  {
   "cell_type": "code",
   "execution_count": 27,
   "metadata": {},
   "outputs": [],
   "source": [
    "os.environ['TF_CPP_MIN_LOG_LEVEL'] = '2'\n",
    "\n",
    "import tensorflow as tf"
   ]
  },
  {
   "cell_type": "code",
   "execution_count": 36,
   "metadata": {},
   "outputs": [
    {
     "name": "stdout",
     "output_type": "stream",
     "text": [
      "9412/9412 [==============================] - 723s 76ms/step\n",
      "9412/9412 [==============================] - 1013s 108ms/step\n",
      "9412/9412 [==============================] - 627s 67ms/step\n",
      "9002/9002 [==============================] - 468s 52ms/step\n",
      "1140/1140 [==============================] - 47s 41ms/step\n",
      "9412/9412 [==============================] - 583s 62ms/step\n",
      "8198/8198 [==============================] - 492s 60ms/step\n"
     ]
    }
   ],
   "source": [
    "model = tf.keras.models.load_model('model_v2')\n",
    "\n",
    "for file, name in tweet_list:\n",
    "    data = pd.read_csv(file, compression='zip', lineterminator='\\n')\n",
    "    data['sentiment'] = model.predict(data['Text'].to_numpy())\n",
    "\n",
    "    data.to_csv(f'../AllData/pred_tweet/{name}', compression={'method': 'zip', 'archive_name': f'{name[:-4]}'}, index = None)\n"
   ]
  }
 ],
 "metadata": {
  "kernelspec": {
   "display_name": "Python 3",
   "language": "python",
   "name": "python3"
  },
  "language_info": {
   "codemirror_mode": {
    "name": "ipython",
    "version": 3
   },
   "file_extension": ".py",
   "mimetype": "text/x-python",
   "name": "python",
   "nbconvert_exporter": "python",
   "pygments_lexer": "ipython3",
   "version": "3.9.0 (tags/v3.9.0:9cf6752, Oct  5 2020, 15:34:40) [MSC v.1927 64 bit (AMD64)]"
  },
  "orig_nbformat": 4,
  "vscode": {
   "interpreter": {
    "hash": "81794d4967e6c3204c66dcd87b604927b115b27c00565d3d43f05ba2f3a2cb0d"
   }
  }
 },
 "nbformat": 4,
 "nbformat_minor": 2
}
