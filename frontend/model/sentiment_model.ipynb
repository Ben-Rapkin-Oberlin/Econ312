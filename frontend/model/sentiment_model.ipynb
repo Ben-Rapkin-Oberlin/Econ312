{
 "cells": [
  {
   "cell_type": "code",
   "execution_count": null,
   "metadata": {},
   "outputs": [],
   "source": [
    "import numpy as np\n",
    "import pandas as pd\n",
    "import os\n",
    "from datetime import datetime"
   ]
  },
  {
   "cell_type": "code",
   "execution_count": null,
   "metadata": {},
   "outputs": [],
   "source": [
    "def get_data_from_dir(dir):\n",
    "    tweet_file = [(dir + file, file)  for file in os.listdir(dir) if 'zip' in file]\n",
    "    return tweet_file"
   ]
  },
  {
   "cell_type": "code",
   "execution_count": null,
   "metadata": {},
   "outputs": [],
   "source": [
    "tweet_list = get_data_from_dir('../AllData/dataset/')\n",
    "tweet_list"
   ]
  },
  {
   "cell_type": "code",
   "execution_count": null,
   "metadata": {},
   "outputs": [],
   "source": [
    "os.environ['TF_CPP_MIN_LOG_LEVEL'] = '2'\n",
    "\n",
    "import tensorflow as tf"
   ]
  },
  {
   "cell_type": "code",
   "execution_count": null,
   "metadata": {},
   "outputs": [],
   "source": [
    "model = tf.keras.models.load_model('model_v2')\n",
    "\n",
    "for file, name in tweet_list:\n",
    "    data = pd.read_csv(file, compression='zip', lineterminator='\\n')\n",
    "    data['Mean'] = model.predict(data['Text'].to_numpy())\n",
    "    data = data[data['Datetime'] != 'Datetime' ]\n",
    "    data = data[['Datetime', 'Mean']]\n",
    "    data['Datetime'] = data['Datetime'].apply(lambda x: datetime.strptime(x[:10], '%Y-%m-%d'))\n",
    "\n",
    "    data_want = data.groupby(['Datetime']).mean(numeric_only = True)\n",
    "\n",
    "    data_want['SD'] = data.groupby(['Datetime']).std(numeric_only = True)['Mean']\n",
    "\n",
    "    data_want['Datetime'] = data_want.index\n",
    "\n",
    "    data_want.to_csv(f'../AllData/pred_tweet/{name}', compression={'method': 'zip', 'archive_name': f'{name[:-4]}'}, index = None)\n"
   ]
  }
 ],
 "metadata": {
  "kernelspec": {
   "display_name": "Python 3",
   "language": "python",
   "name": "python3"
  },
  "language_info": {
   "codemirror_mode": {
    "name": "ipython",
    "version": 3
   },
   "file_extension": ".py",
   "mimetype": "text/x-python",
   "name": "python",
   "nbconvert_exporter": "python",
   "pygments_lexer": "ipython3",
   "version": "3.9.0"
  },
  "orig_nbformat": 4,
  "vscode": {
   "interpreter": {
    "hash": "81794d4967e6c3204c66dcd87b604927b115b27c00565d3d43f05ba2f3a2cb0d"
   }
  }
 },
 "nbformat": 4,
 "nbformat_minor": 2
}
